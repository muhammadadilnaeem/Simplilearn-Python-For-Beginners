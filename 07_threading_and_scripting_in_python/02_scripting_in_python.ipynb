{
 "cells": [
  {
   "cell_type": "markdown",
   "metadata": {},
   "source": [
    "\n",
    "-----\n",
    "\n",
    "# **`Python For Beginners`**\n",
    "\n",
    "## **Author: Muhammad Adil Naeem**\n",
    "## **Contact Me: `madilnaeem@gmail.com`**\n",
    "\n",
    "\n",
    "------\n"
   ]
  },
  {
   "cell_type": "markdown",
   "metadata": {},
   "source": [
    "### **`Scripting In Python`**\n",
    "\n",
    "- Scripting is the process of writing code and running it in a computer program.\n",
    "- It is a set of instructions that tell the computer what to do.\n",
    "- Some populer scripting modules in python are(`os`,`time`,`smtp`)."
   ]
  },
  {
   "cell_type": "markdown",
   "metadata": {},
   "source": [
    "### **`os`**"
   ]
  },
  {
   "cell_type": "code",
   "execution_count": 1,
   "metadata": {},
   "outputs": [
    {
     "name": "stdout",
     "output_type": "stream",
     "text": [
      "e:\\Simplilearn Python For Beginners\\07_threading_and_scripting_in_python\n"
     ]
    }
   ],
   "source": [
    "# write a program to print current working directory\n",
    "\n",
    "import os\n",
    "\n",
    "def current_directory():\n",
    "  print(os.getcwd())\n",
    "\n",
    "current_directory()\n"
   ]
  },
  {
   "cell_type": "code",
   "execution_count": 2,
   "metadata": {},
   "outputs": [
    {
     "name": "stdout",
     "output_type": "stream",
     "text": [
      "e:\\Simplilearn Python For Beginners\\07_threading_and_scripting_in_python\\02_scripting_in_python.ipynb\n"
     ]
    }
   ],
   "source": [
    "# write a program to print current working directory and path of current working file\n",
    "\n",
    "import os\n",
    "\n",
    "def current_file(filename):\n",
    "  print(os.path.abspath(filename))\n",
    "\n",
    "file_name = \"02_scripting_in_python.ipynb\"\n",
    "current_file(file_name)\n"
   ]
  },
  {
   "cell_type": "code",
   "execution_count": 3,
   "metadata": {},
   "outputs": [
    {
     "name": "stdout",
     "output_type": "stream",
     "text": [
      "File Created Successfully ✔\n"
     ]
    }
   ],
   "source": [
    "from os import path\n",
    "\n",
    "def create_file(f_test):\n",
    "    # Check if the file does not exist\n",
    "    if not path.isfile(f_test):\n",
    "        # Create and write to the file\n",
    "        with open(f_test, \"w\") as f:\n",
    "            f.write(\"This is a new file, and Welcome to Python Programming\")\n",
    "\n",
    "# Specify the path to the file, not just the directory\n",
    "f_test = r\"e:\\Simplilearn Python For Beginners\\07_threading_and_scripting_in_python\\new_file.txt\"\n",
    "create_file(f_test)\n",
    "\n",
    "print(\"File Created Successfully ✔\")"
   ]
  },
  {
   "cell_type": "markdown",
   "metadata": {},
   "source": [
    "### **`time`**"
   ]
  },
  {
   "cell_type": "code",
   "execution_count": 4,
   "metadata": {},
   "outputs": [
    {
     "name": "stdout",
     "output_type": "stream",
     "text": [
      "1727773915.915388\n",
      "time.struct_time(tm_year=2024, tm_mon=10, tm_mday=1, tm_hour=14, tm_min=11, tm_sec=55, tm_wday=1, tm_yday=275, tm_isdst=0)\n",
      "Tue Oct  1 14:11:55 2024\n"
     ]
    }
   ],
   "source": [
    "# Function to convert epoch time to local time\n",
    "\n",
    "import time\n",
    "\n",
    "epc = time.time() # epoch time (since 1st jan 1970)\n",
    "print(epc)\n",
    "local_time = time.localtime(epc)\n",
    "print(local_time)\n",
    "print(time.ctime(epc))"
   ]
  },
  {
   "cell_type": "markdown",
   "metadata": {},
   "source": [
    "### **`smtp`**"
   ]
  },
  {
   "cell_type": "code",
   "execution_count": 5,
   "metadata": {},
   "outputs": [
    {
     "data": {
      "text/plain": [
       "(250,\n",
       " b'smtp.gmail.com at your service, [103.155.63.194]\\nSIZE 35882577\\n8BITMIME\\nSTARTTLS\\nENHANCEDSTATUSCODES\\nPIPELINING\\nCHUNKING\\nSMTPUTF8')"
      ]
     },
     "execution_count": 5,
     "metadata": {},
     "output_type": "execute_result"
    }
   ],
   "source": [
    "# write a program to send email with smtp server\n",
    "\n",
    "import smtplib # to send email\n",
    "\n",
    "server = smtplib.SMTP('smtp.gmail.com', 587) # smtp server\n",
    "server.ehlo()  # identify with server \n",
    "# server.starttls() # start encryption\n",
    "# server.login('your email', 'your password')\n",
    "# server.sendmail('your email', 'receiver email', 'message')\n",
    "# server.quit()"
   ]
  },
  {
   "cell_type": "markdown",
   "metadata": {},
   "source": [
    "### **`Write Some Programs that detemine things in run time`**"
   ]
  },
  {
   "cell_type": "code",
   "execution_count": 8,
   "metadata": {},
   "outputs": [
    {
     "name": "stdout",
     "output_type": "stream",
     "text": [
      "20\n",
      "30\n",
      "40\n"
     ]
    }
   ],
   "source": [
    "# a function to use args in python to use multiple arguments\n",
    "\n",
    "def func1(*args):\n",
    "  for i in args:\n",
    "    print(i)\n",
    "\n",
    "func1(20,30,40)"
   ]
  },
  {
   "cell_type": "code",
   "execution_count": 14,
   "metadata": {},
   "outputs": [
    {
     "name": "stdout",
     "output_type": "stream",
     "text": [
      "('a', 20)\n",
      "('b', 30)\n",
      "('c', 40)\n",
      "('d', 50)\n",
      "('e', 60)\n",
      "('f', 70)\n",
      "('g', 80)\n"
     ]
    }
   ],
   "source": [
    "# function to use kwargs in python to use multiple arguments\n",
    "\n",
    "def func2(*args,**kwargs):\n",
    "  for i in kwargs.items():\n",
    "    print(i)\n",
    "\n",
    "func2(a=20,b=30,c=40,d=50,e=60,f=70,g=80)"
   ]
  },
  {
   "cell_type": "code",
   "execution_count": 15,
   "metadata": {},
   "outputs": [
    {
     "name": "stdout",
     "output_type": "stream",
     "text": [
      "11\n"
     ]
    }
   ],
   "source": [
    "# function to return a function\n",
    "\n",
    "def func3():\n",
    "  x = 10\n",
    "  def func4(x):\n",
    "    return x+1\n",
    "  return func4(x)\n",
    "result = func3()\n",
    "print(result)"
   ]
  },
  {
   "cell_type": "code",
   "execution_count": 16,
   "metadata": {},
   "outputs": [
    {
     "name": "stdout",
     "output_type": "stream",
     "text": [
      "This is Fifth Function\n",
      "This is Nested Function\n",
      "This is Outer Function\n"
     ]
    }
   ],
   "source": [
    "# A function to use nested functions \n",
    "\n",
    "def func5(called_func):\n",
    "  print('This is Fifth Function')\n",
    "  def nested_func(called_func):\n",
    "    print('This is Nested Function')\n",
    "    called_func()\n",
    "  return nested_func(called_func)\n",
    "def outer_func():\n",
    "  print('This is Outer Function')\n",
    "\n",
    "obj = func5(outer_func)"
   ]
  },
  {
   "cell_type": "code",
   "execution_count": 23,
   "metadata": {},
   "outputs": [
    {
     "name": "stdout",
     "output_type": "stream",
     "text": [
      "This is Fifth Function\n",
      "This is Nested Function\n",
      "This is Outer Function\n"
     ]
    }
   ],
   "source": [
    "# A function to use nested functions \n",
    "\n",
    "def func6(called_func):\n",
    "    print('This is Fifth Function')\n",
    "    \n",
    "    def nested_func():\n",
    "        print('This is Nested Function')\n",
    "        called_func()\n",
    "    \n",
    "    return nested_func  # Return the nested function itself, not its result\n",
    "\n",
    "@func6    # using a decorater\n",
    "def outer_func():\n",
    "    print('This is Outer Function')\n",
    "\n",
    "outer_func()"
   ]
  },
  {
   "cell_type": "code",
   "execution_count": 21,
   "metadata": {},
   "outputs": [
    {
     "name": "stdout",
     "output_type": "stream",
     "text": [
      "5\n",
      "10\n"
     ]
    }
   ],
   "source": [
    "# Create a Class at runtime\n",
    "\n",
    "B = type('Baseclass', (object,), {})\n",
    "C1 = type('C1', (B,), {\"val\": 5})\n",
    "C2 = type('C2', (B,), {\"val\": 10})\n",
    "\n",
    "def ClassCreater(flag):\n",
    "    if flag:\n",
    "        return C1()\n",
    "    else:\n",
    "        return C2()\n",
    "\n",
    "print(ClassCreater(True).val)  # Output: 5\n",
    "print(ClassCreater(False).val) # Output: 10"
   ]
  },
  {
   "cell_type": "code",
   "execution_count": null,
   "metadata": {},
   "outputs": [],
   "source": []
  }
 ],
 "metadata": {
  "kernelspec": {
   "display_name": "eda_env",
   "language": "python",
   "name": "python3"
  },
  "language_info": {
   "codemirror_mode": {
    "name": "ipython",
    "version": 3
   },
   "file_extension": ".py",
   "mimetype": "text/x-python",
   "name": "python",
   "nbconvert_exporter": "python",
   "pygments_lexer": "ipython3",
   "version": "3.12.2"
  }
 },
 "nbformat": 4,
 "nbformat_minor": 2
}
